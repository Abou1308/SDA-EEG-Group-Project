{
 "cells": [
  {
   "cell_type": "code",
   "execution_count": 43,
   "metadata": {},
   "outputs": [],
   "source": [
    "import pandas as pd\n",
    "import matplotlib.pyplot as plt\n",
    "import numpy as np\n",
    "from scipy.signal import csd\n",
    "from data_preprocessing import preprocess\n",
    "import seaborn as sns\n",
    "\n",
    "\n",
    "dataframe = preprocess()\n",
    "\n",
    "\n",
    "def cross_spectral_matrix(patient_id, wave_option='power_beta'):\n",
    "    # Filter data for the selected patient\n",
    "    patient_data = dataframe[dataframe['id'] == patient_id]\n",
    "\n",
    "    # Create an empty list to hold the power data for each region (channel)\n",
    "    power_data = []\n",
    "\n",
    "    sampling_freq = 128\n",
    "\n",
    "    # Loop through the regions (channels) and extract power data\n",
    "    for region in patient_data['region'].unique():\n",
    "        # Filter power data for the current region\n",
    "        region_data = patient_data[patient_data['region'] == region]\n",
    "        \n",
    "        # Append the power data (list) for this region to the list\n",
    "        power_data.append(region_data[wave_option].values[0])  # Assuming 'power' is a list\n",
    "\n",
    "    # Convert the list of power data (regions x time points) into a DataFrame\n",
    "    power_df = pd.DataFrame(power_data).transpose()  # 16 channels x 240 time points\n",
    "\n",
    "    # Check for NaN values and fill or drop them\n",
    "    if power_df.isnull().values.any():\n",
    "        print(f\"Warning: Missing values detected in power data for patient {patient_id}\")\n",
    "        power_df = power_df.fillna(0)  # Fill NaN with 0 (you can change this to another method)\n",
    "\n",
    "    channels = power_df.columns\n",
    "    csd_matrix = np.zeros((len(channels), len(channels)), dtype=complex)\n",
    "\n",
    "    #Compute CSD Matrix\n",
    "    for i, ch1 in enumerate(channels):\n",
    "        for j, ch2 in enumerate(channels):\n",
    "            # Compute CSD between two channels\n",
    "            freqs, csd_values = csd(power_df[ch1], power_df[ch2], fs=sampling_freq, nperseg=256)\n",
    "            \n",
    "            # Take the average value of the CSD (optional: could store full spectrum instead)\n",
    "            csd_matrix[i, j] = np.mean(csd_values)\n",
    "\n",
    "    #Normalize CSD Matrix\n",
    "    for i in range(len(channels)):\n",
    "        for j in range(len(channels)):\n",
    "            if i != j:\n",
    "                csd_matrix[i, j] = csd_matrix[i, j] / np.sqrt(csd_matrix[i, i] * csd_matrix[j, j])\n",
    "    \n",
    "    np.fill_diagonal(csd_matrix, 1) #I explicitly set the diagonals to 1, because when computing the average across patients, i take the magnitude of the average csd matrix and it messes it up\n",
    "    # Return the CSD matrix\n",
    "    return csd_matrix, freqs\n",
    "    \n",
    "\n",
    "def average_csd(patient_ids, wave_option='power_beta'):\n",
    "    csd_sums = None\n",
    "    count = 0\n",
    "\n",
    "    # Loop through each patient and calculate their CSD matrix\n",
    "    for patient_id in patient_ids:\n",
    "        csd_matrix, _ = cross_spectral_matrix(patient_id, wave_option)  # Call your CSD function\n",
    "\n",
    "    # Add the current CSD matrix to the cumulative sum\n",
    "        if csd_sums is None:\n",
    "            csd_sums = csd_matrix\n",
    "        else:\n",
    "            csd_sums += csd_matrix\n",
    "\n",
    "        count += 1\n",
    "\n",
    "    # Calculate the average CSD matrix\n",
    "    average_csd_matrix = np.abs(csd_sums / count) #Manitude of the complex values\n",
    "\n",
    "   # average_csd_df = pd.DataFrame(average_csd_matrix)\n",
    "\n",
    "    return average_csd_matrix\n",
    "\n",
    "\n"
   ]
  },
  {
   "cell_type": "code",
   "execution_count": 2,
   "metadata": {},
   "outputs": [],
   "source": [
    "df = dataframe"
   ]
  },
  {
   "cell_type": "code",
   "execution_count": 3,
   "metadata": {},
   "outputs": [],
   "source": [
    "\n",
    "def plot_correlation_matrices(healthy_patients, schizo_patients, wave_option='power_beta'):\n",
    "    # Calculate average correlation matrices for both healthy and schizophrenic patients\n",
    "    avg_corr_healthy = average_csd(healthy_patients, wave_option=wave_option)\n",
    "    avg_corr_schizo = average_csd(schizo_patients, wave_option=wave_option)\n",
    "    corr_difference = avg_corr_healthy - avg_corr_schizo\n",
    "\n",
    "    # Get the regions (they should be consistent across all patients)\n",
    "    regions = avg_corr_healthy.columns.tolist()  # Get region names from the columns of the correlation matrix\n",
    "\n",
    "    # Plot for healthy patients\n",
    "    plt.figure(figsize=(10, 8))\n",
    "    sns.heatmap(avg_corr_healthy, annot=True, cmap='Oranges', fmt='.2f', xticklabels=regions, yticklabels=regions)\n",
    "    plt.title(f\"Average Correlation Matrix for Healthy Patients ({wave_option.capitalize()})\")\n",
    "    plt.xlabel('Regions (Channels)')\n",
    "    plt.ylabel('Regions (Channels)')\n",
    "    plt.show()\n",
    "\n",
    "    # Plot for schizophrenic patients\n",
    "    plt.figure(figsize=(10, 8))\n",
    "    sns.heatmap(avg_corr_schizo, annot=True, cmap='Oranges', fmt='.2f', xticklabels=regions, yticklabels=regions)\n",
    "    plt.title(f\"Average Correlation Matrix for Schizophrenic Patients ({wave_option.capitalize()})\")\n",
    "    plt.xlabel('Regions (Channels)')\n",
    "    plt.ylabel('Regions (Channels)')\n",
    "    plt.show()\n",
    "\n",
    "    # Plot the correlation difference (healthy - schizo)\n",
    "    plt.figure(figsize=(10, 8))\n",
    "    sns.heatmap(corr_difference, annot=True, cmap='Oranges', fmt='.2f', xticklabels=regions, yticklabels=regions)\n",
    "    plt.title('Correlation Difference (Healthy - Schizophrenic)')\n",
    "    plt.xlabel('Regions (Channels)')\n",
    "    plt.ylabel('Regions (Channels)')\n",
    "    plt.show()\n"
   ]
  },
  {
   "cell_type": "code",
   "execution_count": 4,
   "metadata": {},
   "outputs": [],
   "source": [
    "healthy_patients = df[df['schizo'] == 0]['id'].unique().tolist()\n",
    "schizo_patients = df[df['schizo'] == 1]['id'].unique().tolist()"
   ]
  },
  {
   "cell_type": "code",
   "execution_count": 61,
   "metadata": {},
   "outputs": [],
   "source": [
    "bootstrap_samples = [\n",
    "    np.random.choice(healthy_patients, size=5, replace=True)\n",
    "    for _ in range(100)\n",
    "]\n"
   ]
  },
  {
   "cell_type": "code",
   "execution_count": 62,
   "metadata": {},
   "outputs": [],
   "source": [
    "cross_channel_8_13 = [\n",
    "    average_csd(sample)[8, 13]\n",
    "    for sample in bootstrap_samples\n",
    "]"
   ]
  },
  {
   "cell_type": "code",
   "execution_count": 65,
   "metadata": {},
   "outputs": [
    {
     "name": "stdout",
     "output_type": "stream",
     "text": [
      "0.49364178659870267 0.7772474004555574 0.623054153574378\n"
     ]
    }
   ],
   "source": [
    "lower_bound = np.percentile(cross_channel_8_13, 2.5)\n",
    "upper_bound = np.percentile(cross_channel_8_13, 97.5)\n",
    "mean = np.mean(cross_channel_8_13)\n",
    "print(lower_bound, upper_bound, mean)"
   ]
  },
  {
   "cell_type": "code",
   "execution_count": 41,
   "metadata": {},
   "outputs": [],
   "source": [
    "cross_schizo = []\n",
    "for patient_id in schizo_patients:\n",
    "    csd_matrix, _ = cross_spectral_matrix(patient_id, wave_option='power_beta')\n",
    "    cross813 = np.abs(csd_matrix)[8, 13]\n",
    "    cross_schizo.append(cross813)"
   ]
  },
  {
   "cell_type": "code",
   "execution_count": 66,
   "metadata": {},
   "outputs": [
    {
     "name": "stdout",
     "output_type": "stream",
     "text": [
      "36 7 2\n"
     ]
    }
   ],
   "source": [
    "count_under = 0\n",
    "count_in = 0\n",
    "count_above = 0\n",
    "in_list = []\n",
    "for value in cross_schizo:\n",
    "    if value < lower_bound:\n",
    "        count_under += 1\n",
    "    elif value > lower_bound and value < upper_bound:\n",
    "        count_in +=1\n",
    "        in_list.append(value)\n",
    "    elif value > upper_bound:\n",
    "        count_above += 1\n",
    "print(count_under, count_in, count_above)"
   ]
  },
  {
   "cell_type": "code",
   "execution_count": 59,
   "metadata": {},
   "outputs": [
    {
     "data": {
      "text/plain": [
       "<matplotlib.lines.Line2D at 0x76125abb0200>"
      ]
     },
     "execution_count": 59,
     "metadata": {},
     "output_type": "execute_result"
    },
    {
     "data": {
      "image/png": "[encoded data removed]",
      "text/plain": [
       "<Figure size 640x480 with 1 Axes>"
      ]
     },
     "metadata": {},
     "output_type": "display_data"
    }
   ],
   "source": [
    "plt.hist(cross_channel_8_13, bins=20, alpha=0.5)\n",
    "plt.hist(cross_schizo, bins=20, alpha=0.5)\n",
    "plt.axvline(lower_bound)\n",
    "plt.axvline(upper_bound)"
   ]
  },
  {
   "cell_type": "code",
   "execution_count": 56,
   "metadata": {},
   "outputs": [],
   "source": [
    "bootstrap_samples = [\n",
    "    np.random.choice(schizo_patients, size=5, replace=True)\n",
    "    for _ in range(100)\n",
    "]\n",
    "cross_channel_8_13_schizo = [\n",
    "    average_csd(sample)[8, 13]\n",
    "    for sample in bootstrap_samples\n",
    "]"
   ]
  },
  {
   "cell_type": "code",
   "execution_count": 68,
   "metadata": {},
   "outputs": [
    {
     "data": {
      "text/plain": [
       "<matplotlib.lines.Line2D at 0x76124ae64170>"
      ]
     },
     "execution_count": 68,
     "metadata": {},
     "output_type": "execute_result"
    },
    {
     "data": {
      "image/png": "[encoded data removed]",
      "text/plain": [
       "<Figure size 640x480 with 1 Axes>"
      ]
     },
     "metadata": {},
     "output_type": "display_data"
    }
   ],
   "source": [
    "plt.hist(cross_channel_8_13, bins=20, alpha=0.5)\n",
    "plt.hist(cross_channel_8_13_schizo, bins=20, alpha=0.5)\n",
    "plt.axvline(lower_bound)\n",
    "plt.axvline(upper_bound)"
   ]
  }
 ],
 "metadata": {
  "kernelspec": {
   "display_name": "mne",
   "language": "python",
   "name": "python3"
  },
  "language_info": {
   "codemirror_mode": {
    "name": "ipython",
    "version": 3
   },
   "file_extension": ".py",
   "mimetype": "text/x-python",
   "name": "python",
   "nbconvert_exporter": "python",
   "pygments_lexer": "ipython3",
   "version": "3.12.7"
  }
 },
 "nbformat": 4,
 "nbformat_minor": 2
}
