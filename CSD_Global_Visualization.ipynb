{
 "cells": [
  {
   "cell_type": "code",
   "execution_count": 1,
   "metadata": {},
   "outputs": [],
   "source": [
    "import mne # MEG + EEG Analysis & Visualization\n",
    "\n",
    "import pandas as pd\n",
    "import numpy as np\n",
    "import matplotlib.pyplot as plt\n",
    "\n",
    "from scipy.signal import csd\n",
    "import seaborn as sns\n",
    "import warnings\n",
    "\n",
    "warnings.filterwarnings(\"ignore\", category=UserWarning, module=\"scipy.signal\")\n",
    "\n",
    "from data_preprocessing import preprocess # Function from data_preprocessing script\n",
    "from CSD_matrix import average_csd"
   ]
  },
  {
   "cell_type": "code",
   "execution_count": 2,
   "metadata": {},
   "outputs": [],
   "source": [
    "#Preprocess the data: Calculates Freqs & Power Ranges\n",
    "df1 = preprocess()"
   ]
  },
  {
   "cell_type": "code",
   "execution_count": 3,
   "metadata": {},
   "outputs": [
    {
     "name": "stdout",
     "output_type": "stream",
     "text": [
      "Creating RawArray with float64 data, n_channels=16, n_times=7680\n",
      "    Range : 0 ... 7679 =      0.000 ...    59.992 secs\n",
      "Ready.\n"
     ]
    }
   ],
   "source": [
    "#Creates MNE Info object\n",
    "n_channels = 16\n",
    "n_times = 7680  #Number of data points\n",
    "data = np.random.rand(n_channels, n_times)\n",
    "\n",
    "sfreq = 128 #Sampling Frequency (Provided by the Dataset)\n",
    "ch_names = [f\"Ch{i+1}\" for i in range(16)]\n",
    "info = mne.create_info(ch_names=ch_names, sfreq=sfreq, ch_types=['eeg'] * 16)\n",
    "\n",
    "#Creates the RawArray\n",
    "raw = mne.io.RawArray(data, info)\n",
    "\n",
    "mapping = {\n",
    "    \"Ch1\": \"F7\", \"Ch2\": \"F3\", \"Ch3\": \"F4\", \"Ch4\": \"F8\",\n",
    "    \"Ch5\": \"T3\", \"Ch6\": \"C3\", \"Ch7\": \"Cz\", \"Ch8\": \"C4\",\n",
    "    \"Ch9\": \"T4\", \"Ch10\": \"T5\", \"Ch11\": \"P3\", \"Ch12\": \"Pz\",\n",
    "    \"Ch13\": \"P4\", \"Ch14\": \"T6\", \"Ch15\": \"O1\", \"Ch16\": \"O2\"}\n",
    "\n",
    "raw.rename_channels(mapping)\n",
    "montage = mne.channels.make_standard_montage('standard_1020')\n",
    "raw.set_montage(montage)\n",
    "\n",
    "%matplotlib qt\n",
    "raw.plot_sensors(show_names=True, kind=\"topomap\", sphere=(0, 0, 0, 0.09));\n"
   ]
  },
  {
   "cell_type": "code",
   "execution_count": 4,
   "metadata": {},
   "outputs": [],
   "source": [
    "healthy_patients = df1[df1['schizo'] == 0]['id'].unique().tolist()\n",
    "schizo_patients = df1[df1['schizo'] == 1]['id'].unique().tolist()\n",
    "\n",
    "def plot_correlation_matrices(healthy_patients, schizo_patients, wave_option='power_beta', ax=None):\n",
    "    \n",
    "    # Calculate average correlation matrices for both healthy and schizophrenic patients\n",
    "    avg_corr_healthy = average_csd(healthy_patients, df1, wave_option=wave_option)\n",
    "    avg_corr_schizo = average_csd(schizo_patients, df1, wave_option=wave_option)\n",
    "    \n",
    "    #Computes the global vmin and vmax for consistent color scaling\n",
    "    global_vmin = min(avg_corr_healthy.min().min(), avg_corr_schizo.min().min())\n",
    "    global_vmax = max(avg_corr_healthy.max().max(), avg_corr_schizo.max().max())\n",
    "\n",
    "    corr_difference = avg_corr_healthy - avg_corr_schizo\n",
    "    \n",
    "    diff_vmin = -0.05\n",
    "    diff_vmax = 0.175\n",
    "\n",
    "    # Plot on provided axes\n",
    "    sns.heatmap(avg_corr_healthy, annot=False, cmap='Oranges', fmt='.2f', xticklabels=True, yticklabels=True,vmin=global_vmin, vmax=global_vmax, ax=ax[0])\n",
    "    ax[0].set_title(f\"Healthy Patients ({wave_option.capitalize()})\")\n",
    "    sns.heatmap(avg_corr_schizo, annot=False, cmap='Oranges', fmt='.2f', xticklabels=True, yticklabels=True,vmin=global_vmin, vmax=global_vmax, ax=ax[1])\n",
    "    ax[1].set_title(f\"Schizophrenic Patients ({wave_option.capitalize()})\")\n",
    "    sns.heatmap(corr_difference, annot=False, cmap='Oranges', fmt='.2f', xticklabels=True, yticklabels=True,vmin=diff_vmin, vmax=diff_vmax, ax=ax[2])\n",
    "    ax[2].set_title(\"Difference (Healthy - Schizophrenic)\")\n",
    "\n",
    "    for axis in ax:\n",
    "        axis.set_xlabel('Regions (Channels)')\n",
    "        axis.set_ylabel('Regions (Channels)')\n",
    "\n",
    "\"\"\"Subplots\"\"\"\n",
    "fig, axes = plt.subplots(3, 3, figsize=(18, 18))\n",
    "\n",
    "plot_correlation_matrices(healthy_patients, schizo_patients, wave_option='power_beta', ax=axes[0])\n",
    "plot_correlation_matrices(healthy_patients, schizo_patients, wave_option='power_alpha', ax=axes[1])\n",
    "plot_correlation_matrices(healthy_patients, schizo_patients, wave_option='power_theta', ax=axes[2])\n",
    "\n",
    "plt.tight_layout()\n",
    "plt.show()"
   ]
  }
 ],
 "metadata": {
  "kernelspec": {
   "display_name": "SCYZ",
   "language": "python",
   "name": "python3"
  },
  "language_info": {
   "codemirror_mode": {
    "name": "ipython",
    "version": 3
   },
   "file_extension": ".py",
   "mimetype": "text/x-python",
   "name": "python",
   "nbconvert_exporter": "python",
   "pygments_lexer": "ipython3",
   "version": "3.12.7"
  }
 },
 "nbformat": 4,
 "nbformat_minor": 2
}
